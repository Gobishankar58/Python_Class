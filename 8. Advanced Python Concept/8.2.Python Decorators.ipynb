{
 "cells": [
  {
   "cell_type": "markdown",
   "metadata": {},
   "source": [
    "### Python Decorators"
   ]
  },
  {
   "cell_type": "code",
   "execution_count": 28,
   "metadata": {},
   "outputs": [],
   "source": [
    "## function copy\n",
    "## closures\n",
    "## decorators"
   ]
  },
  {
   "cell_type": "code",
   "execution_count": null,
   "metadata": {},
   "outputs": [],
   "source": [
    "'''\n",
    "Closures:\n",
    "A closure is a nested function that captures and remembers the values of variables in its enclosing \n",
    "scope even if they are not present in memory. In other words, a closure allows a nested function \n",
    "to access and use variables from its containing function, even after the containing \n",
    "function has finished executing. Closures are often used to create functions with \n",
    "customized behavior or to encapsulate certain data within a function.\n",
    "'''"
   ]
  },
  {
   "cell_type": "code",
   "execution_count": 1,
   "metadata": {},
   "outputs": [],
   "source": [
    "### Closures\n",
    "def main_welcome(msg):\n",
    "    msg=msg+' hello'\n",
    "    def sub_welcome_class():\n",
    "        print(\"Welcome To Bluekode Academy\")\n",
    "        print(msg)\n",
    "        print(\"Please subscribe Bluekode channel\")\n",
    "    return sub_welcome_class()"
   ]
  },
  {
   "cell_type": "code",
   "execution_count": 2,
   "metadata": {},
   "outputs": [
    {
     "name": "stdout",
     "output_type": "stream",
     "text": [
      "Welcome To Bluekode Academy\n",
      "raja hello\n",
      "Please subscribe Bluekode channel\n"
     ]
    }
   ],
   "source": [
    "main_welcome(\"raja\")"
   ]
  },
  {
   "cell_type": "code",
   "execution_count": null,
   "metadata": {},
   "outputs": [],
   "source": [
    "'''\n",
    "Decorators:\n",
    "Decorators are a powerful feature in Python that allows you to modify or enhance \n",
    "the behavior of functions or methods without changing their actual code. \n",
    "Decorators are typically functions that take another function as input, \n",
    "modify it in some way, and return the modified version. They are commonly \n",
    "used to add functionalities like logging, authentication, caching, \n",
    "and more to functions. Decorators are often applied using \n",
    "the @ symbol before a function definition.\n",
    "'''"
   ]
  },
  {
   "cell_type": "code",
   "execution_count": 9,
   "metadata": {},
   "outputs": [],
   "source": [
    "### Decorators\n",
    "def main_welcome(msg):\n",
    "    def sub_welcome_class():\n",
    "        print(\"Welcome To Bluekode Academy\")\n",
    "        msg()    # Call the provided function\n",
    "        print(\"Please subscribe Blukode channel\")\n",
    "    return sub_welcome_class()   # Call the inner function immediately"
   ]
  },
  {
   "cell_type": "code",
   "execution_count": 4,
   "metadata": {},
   "outputs": [],
   "source": [
    "\n",
    "def channel_name():\n",
    "    print(\"Bluekode Solution\")"
   ]
  },
  {
   "cell_type": "code",
   "execution_count": 6,
   "metadata": {},
   "outputs": [
    {
     "data": {
      "text/plain": [
       "<function __main__.channel_name()>"
      ]
     },
     "execution_count": 6,
     "metadata": {},
     "output_type": "execute_result"
    }
   ],
   "source": [
    "channel_name"
   ]
  },
  {
   "cell_type": "code",
   "execution_count": 10,
   "metadata": {},
   "outputs": [
    {
     "name": "stdout",
     "output_type": "stream",
     "text": [
      "Welcome To Bluekode Academy\n",
      "Bluekode Solution\n",
      "Please subscribe Blukode channel\n"
     ]
    }
   ],
   "source": [
    "# Call the decorator-like function with channel_name as an argument\n",
    "a=main_welcome(channel_name)"
   ]
  },
  {
   "cell_type": "code",
   "execution_count": 12,
   "metadata": {},
   "outputs": [
    {
     "name": "stdout",
     "output_type": "stream",
     "text": [
      "Welcome To Bluekode Academy\n",
      "Bluekode Solution\n",
      "Please subscribe Blukode channel\n"
     ]
    }
   ],
   "source": [
    "@main_welcome\n",
    "def channel_name():\n",
    "    print(\"Bluekode Solution\")"
   ]
  }
 ],
 "metadata": {
  "kernelspec": {
   "display_name": "Python 3",
   "language": "python",
   "name": "python3"
  },
  "language_info": {
   "codemirror_mode": {
    "name": "ipython",
    "version": 3
   },
   "file_extension": ".py",
   "mimetype": "text/x-python",
   "name": "python",
   "nbconvert_exporter": "python",
   "pygments_lexer": "ipython3",
   "version": "3.13.1"
  }
 },
 "nbformat": 4,
 "nbformat_minor": 4
}
