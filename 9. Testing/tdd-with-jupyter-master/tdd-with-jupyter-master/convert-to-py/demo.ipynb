{
 "cells": [
  {
   "cell_type": "markdown",
   "metadata": {},
   "source": [
    "# Demonstration"
   ]
  },
  {
   "cell_type": "code",
   "execution_count": 1,
   "metadata": {
    "collapsed": false
   },
   "outputs": [
    {
     "name": "stdout",
     "output_type": "stream",
     "text": [
      "jupyter nbconvert test_foo.ipynb --to python\n",
      "[NbConvertApp] Converting notebook test_foo.ipynb to python\n",
      "[NbConvertApp] Writing 258 bytes to test_foo.py\n",
      "jupyter nbconvert foo.ipynb --to python\n",
      "[NbConvertApp] Converting notebook foo.ipynb to python\n",
      "[NbConvertApp] Writing 119 bytes to foo.py\n",
      "py.test -v test_foo.py\n",
      "\u001b[1m============================= test session starts ==============================\u001b[0m\n",
      "platform darwin -- Python 3.5.1, pytest-2.8.5, py-1.4.31, pluggy-0.3.1 -- //anaconda/bin/python\n",
      "cachedir: .cache\n",
      "rootdir: /Users/fangohr/git/tdd-with-jupyter/convert-to-py, inifile: \n",
      "plugins: nbval-0.3.1, cov-2.2.1\n",
      "collected 2 items \n",
      "\u001b[0m\n",
      "test_foo.py::test_sum \u001b[32mPASSED\u001b[0m\n",
      "test_foo.py::test_prod \u001b[32mPASSED\u001b[0m\n",
      "\n",
      "\u001b[32m\u001b[1m=========================== 2 passed in 0.01 seconds ===========================\u001b[0m\n"
     ]
    }
   ],
   "source": [
    "!make test"
   ]
  },
  {
   "cell_type": "markdown",
   "metadata": {},
   "source": [
    "On the first call, the notebooks *ipynb are converted to *py files, then the tests are run."
   ]
  },
  {
   "cell_type": "code",
   "execution_count": 2,
   "metadata": {
    "collapsed": false
   },
   "outputs": [
    {
     "name": "stdout",
     "output_type": "stream",
     "text": [
      "py.test -v test_foo.py\n",
      "\u001b[1m============================= test session starts ==============================\u001b[0m\n",
      "platform darwin -- Python 3.5.1, pytest-2.8.5, py-1.4.31, pluggy-0.3.1 -- //anaconda/bin/python\n",
      "cachedir: .cache\n",
      "rootdir: /Users/fangohr/git/tdd-with-jupyter/convert-to-py, inifile: \n",
      "plugins: nbval-0.3.1, cov-2.2.1\n",
      "collected 2 items \n",
      "\u001b[0m\n",
      "test_foo.py::test_sum \u001b[32mPASSED\u001b[0m\n",
      "test_foo.py::test_prod \u001b[32mPASSED\u001b[0m\n",
      "\n",
      "\u001b[1m\u001b[32m=========================== 2 passed in 0.01 seconds ===========================\u001b[0m\n"
     ]
    }
   ],
   "source": [
    "!make test"
   ]
  }
 ],
 "metadata": {
  "kernelspec": {
   "display_name": "Python 3",
   "language": "python",
   "name": "python3"
  },
  "language_info": {
   "codemirror_mode": {
    "name": "ipython",
    "version": 3
   },
   "file_extension": ".py",
   "mimetype": "text/x-python",
   "name": "python",
   "nbconvert_exporter": "python",
   "pygments_lexer": "ipython3",
   "version": "3.5.1"
  }
 },
 "nbformat": 4,
 "nbformat_minor": 0
}
