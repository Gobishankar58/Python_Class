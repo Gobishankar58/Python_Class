{
 "cells": [
  {
   "cell_type": "code",
   "execution_count": 4,
   "id": "3abbcee6",
   "metadata": {},
   "outputs": [
    {
     "name": "stderr",
     "output_type": "stream",
     "text": [
      "'make' is not recognized as an internal or external command,\n",
      "operable program or batch file.\n"
     ]
    }
   ],
   "source": [
    "!make test"
   ]
  },
  {
   "cell_type": "code",
   "execution_count": 2,
   "id": "99a200df",
   "metadata": {},
   "outputs": [],
   "source": [
    "def test_sum():\n",
    "    assert foo.sum(1, 2) == 3\n",
    "    assert foo.sum(\"cat\", \"dog\") == \"catdog\""
   ]
  },
  {
   "cell_type": "code",
   "execution_count": null,
   "id": "ad5dfb30",
   "metadata": {},
   "outputs": [],
   "source": [
    "def test_prod():\n",
    "    assert foo.prod(2, 4) == 8\n",
    "    assert foo.prod(2, \"cat\") == \"catcat\""
   ]
  }
 ],
 "metadata": {
  "kernelspec": {
   "display_name": "Python 3 (ipykernel)",
   "language": "python",
   "name": "python3"
  },
  "language_info": {
   "codemirror_mode": {
    "name": "ipython",
    "version": 3
   },
   "file_extension": ".py",
   "mimetype": "text/x-python",
   "name": "python",
   "nbconvert_exporter": "python",
   "pygments_lexer": "ipython3",
   "version": "3.10.9"
  }
 },
 "nbformat": 4,
 "nbformat_minor": 5
}
