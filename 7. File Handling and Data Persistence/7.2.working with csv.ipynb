{
 "cells": [
  {
   "cell_type": "markdown",
   "metadata": {},
   "source": [
    "Working with CSV (Comma-Separated Values) files in Python is a common task. The `csv` module in Python provides functionalities for reading from and writing to CSV files. Let's explore some basic operations with CSV files using Python:"
   ]
  },
  {
   "cell_type": "markdown",
   "metadata": {},
   "source": [
    "1. Writing CSV Files:\n",
    "\n",
    "   You can write data to a CSV file using the `csv.writer` class. You can write rows by providing a list of values for each row.\n",
    "\n"
   ]
  },
  {
   "cell_type": "code",
   "execution_count": 1,
   "metadata": {},
   "outputs": [],
   "source": [
    "import csv\n",
    "\n",
    "# Data to be written\n",
    "data = [\n",
    "    ['Name', 'Age', 'City'],\n",
    "    ['John Doe', 25, 'New York'],\n",
    "    ['Jane Smith', 30, 'London'],\n",
    "    ['Bob Johnson', 35, 'Paris']\n",
    "]\n",
    "\n",
    "# Open the CSV file for writing\n",
    "with open('data.csv', 'w', newline='') as file:\n",
    "    csv_writer = csv.writer(file)\n",
    "\n",
    "    # Write rows\n",
    "    for row in data:\n",
    "        csv_writer.writerow(row)"
   ]
  },
  {
   "cell_type": "markdown",
   "metadata": {},
   "source": [
    "In this example, the `data` list contains the rows to be written to the CSV file. The file named \"data.csv\" is opened in write mode. The `csv.writer` object is used to write rows to the file using the `writerow()` method.\n"
   ]
  },
  {
   "cell_type": "markdown",
   "metadata": {},
   "source": [
    "2. Reading CSV Files:\n",
    "   You can read data from a CSV file using the `csv.reader` class. Each row of the CSV file is represented as a list of values.\n"
   ]
  },
  {
   "cell_type": "code",
   "execution_count": 2,
   "metadata": {},
   "outputs": [
    {
     "name": "stdout",
     "output_type": "stream",
     "text": [
      "['Name', 'Age', 'City']\n",
      "['John Doe', '25', 'New York']\n",
      "['Jane Smith', '30', 'London']\n",
      "['Bob Johnson', '35', 'Paris']\n"
     ]
    }
   ],
   "source": [
    "import csv\n",
    "\n",
    "# Open the CSV file for reading\n",
    "with open('data.csv', 'r') as file:\n",
    "    csv_reader = csv.reader(file)\n",
    "\n",
    "    # Iterate over each row\n",
    "    for row in csv_reader:\n",
    "        # Access individual values\n",
    "        print(row)"
   ]
  },
  {
   "cell_type": "markdown",
   "metadata": {},
   "source": [
    "In this example, the CSV file named \"data.csv\" is opened in read mode. The `csv.reader` object is used to read the file. Each row is printed as a list of values.\n"
   ]
  },
  {
   "cell_type": "markdown",
   "metadata": {},
   "source": [
    "3. Working with CSV Files Using DictReader and DictWriter:\n",
    "   The `csv` module also provides `DictReader` and `DictWriter` classes, which allow working with CSV files using dictionaries instead of lists. Each row is represented as a dictionary, where the keys are the column names.\n"
   ]
  },
  {
   "cell_type": "code",
   "execution_count": 3,
   "metadata": {},
   "outputs": [
    {
     "name": "stdout",
     "output_type": "stream",
     "text": [
      "John Doe 25 New York\n",
      "Jane Smith 30 London\n",
      "Bob Johnson 35 Paris\n"
     ]
    }
   ],
   "source": [
    "import csv\n",
    "\n",
    "# Reading CSV file as dictionaries\n",
    "with open('data.csv', 'r') as file:\n",
    "    csv_dict_reader = csv.DictReader(file)\n",
    "\n",
    "    # Access data using dictionary keys\n",
    "    for row in csv_dict_reader:\n",
    "        print(row['Name'], row['Age'], row['City'])\n"
   ]
  },
  {
   "cell_type": "code",
   "execution_count": 4,
   "metadata": {},
   "outputs": [],
   "source": [
    "import csv\n",
    "\n",
    "# Writing CSV file from dictionaries\n",
    "data = [\n",
    "    {'Name': 'John Doe', 'Age': 25, 'City': 'New York'},\n",
    "    {'Name': 'Jane Smith', 'Age': 30, 'City': 'London'},\n",
    "    {'Name': 'Bob Johnson', 'Age': 35, 'City': 'Paris'}\n",
    "]\n",
    "\n",
    "with open('data.csv', 'w', newline='') as file:\n",
    "    fieldnames = ['Name', 'Age', 'City']\n",
    "    csv_dict_writer = csv.DictWriter(file, fieldnames=fieldnames)\n",
    "\n",
    "    csv_dict_writer.writeheader()  # Write header row\n",
    "    csv_dict_writer.writerows(data)  # Write data rows\n"
   ]
  },
  {
   "cell_type": "markdown",
   "metadata": {},
   "source": [
    "In these examples, the `csv.DictReader` class is used to read the CSV file and retrieve each row as a dictionary. The `csv.DictWriter` class is used to write rows to the CSV file from dictionaries. The keys in the dictionaries correspond to the column names in the CSV file.\n",
    "\n",
    "These are basic operations for working with CSV files in Python using the `csv` module. The `csv` module provides additional options and methods to handle different formatting, delimiters, and quoting styles."
   ]
  }
 ],
 "metadata": {
  "kernelspec": {
   "display_name": "Python 3",
   "language": "python",
   "name": "python3"
  },
  "language_info": {
   "codemirror_mode": {
    "name": "ipython",
    "version": 3
   },
   "file_extension": ".py",
   "mimetype": "text/x-python",
   "name": "python",
   "nbconvert_exporter": "python",
   "pygments_lexer": "ipython3",
   "version": "3.13.1"
  }
 },
 "nbformat": 4,
 "nbformat_minor": 4
}
