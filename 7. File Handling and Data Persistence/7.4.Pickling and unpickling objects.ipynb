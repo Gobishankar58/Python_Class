{
 "cells": [
  {
   "cell_type": "markdown",
   "metadata": {},
   "source": [
    "# Using Pickle to Write Binary Files"
   ]
  },
  {
   "cell_type": "markdown",
   "metadata": {},
   "source": [
    "__writing a binary file__"
   ]
  },
  {
   "cell_type": "code",
   "execution_count": 2,
   "metadata": {},
   "outputs": [],
   "source": [
    "import pickle\n",
    " \n",
    "output_file = open(\"myfile_sample.bin\", \"wb\")\n",
    "\n",
    "myint = 42\n",
    "mystring = \"Hello, world!\"\n",
    "mylist = [\"dog\", \"cat\", \"lizard\"]\n",
    "mydict = { \"name\": \"Bob\", \"job\": \"Astronaut\" }\n",
    " \n",
    "pickle.dump(myint, output_file)\n",
    "pickle.dump(mystring, output_file)\n",
    "pickle.dump(mylist, output_file)\n",
    "pickle.dump(mydict, output_file)\n",
    " \n",
    "output_file.close()"
   ]
  },
  {
   "cell_type": "markdown",
   "metadata": {},
   "source": [
    "__reading a binary file__"
   ]
  },
  {
   "cell_type": "code",
   "execution_count": 4,
   "metadata": {
    "scrolled": true
   },
   "outputs": [
    {
     "name": "stdout",
     "output_type": "stream",
     "text": [
      "myint = 42\n",
      "mystring = Hello, world!\n",
      "mylist = ['dog', 'cat', 'lizard']\n",
      "mydict = {'name': 'Bob', 'job': 'Astronaut'}\n"
     ]
    }
   ],
   "source": [
    "import pickle\n",
    " \n",
    "input_file = open(\"myfile_sample.bin\", \"rb\")\n",
    "\n",
    "myint = pickle.load(input_file)\n",
    "mystring = pickle.load(input_file)\n",
    "mylist = pickle.load(input_file)\n",
    "mydict = pickle.load(input_file)\n",
    "# mydict1 = pickle.load(input_file)\n",
    "\n",
    "print(\"myint = %s\" % myint)\n",
    "print(\"mystring = %s\" % mystring)\n",
    "print(\"mylist = %s\" % mylist)\n",
    "print(\"mydict = %s\" % mydict)\n",
    " \n",
    "# input_file.close()"
   ]
  }
 ],
 "metadata": {
  "kernelspec": {
   "display_name": "Python 3",
   "language": "python",
   "name": "python3"
  },
  "language_info": {
   "codemirror_mode": {
    "name": "ipython",
    "version": 3
   },
   "file_extension": ".py",
   "mimetype": "text/x-python",
   "name": "python",
   "nbconvert_exporter": "python",
   "pygments_lexer": "ipython3",
   "version": "3.12.4"
  }
 },
 "nbformat": 4,
 "nbformat_minor": 4
}
