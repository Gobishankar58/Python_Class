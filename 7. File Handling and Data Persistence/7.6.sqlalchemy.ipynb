{
 "cells": [
  {
   "cell_type": "markdown",
   "metadata": {},
   "source": [
    "Object-Relational Mapping (ORM) is a technique that allows developers to interact with databases using object-oriented programming paradigms instead of writing raw SQL queries. SQLAlchemy is a popular Python library that provides ORM capabilities along with other database-related functionalities. Let's explore how to use SQLAlchemy for ORM operations:\n",
    "\n",
    "1. Setting up SQLAlchemy:\n",
    "\n",
    "   First, you need to install SQLAlchemy using a package manager like pip:\n",
    "\n",
    "```shell\n",
    "pip install sqlalchemy\n",
    "```\n",
    "\n",
    "   Once installed, you can import and set up SQLAlchemy in your Python code:"
   ]
  },
  {
   "cell_type": "code",
   "execution_count": 4,
   "metadata": {},
   "outputs": [],
   "source": [
    "from sqlalchemy import create_engine\n",
    "from sqlalchemy.orm import sessionmaker\n",
    "\n",
    "# Create an engine to connect to the database\n",
    "engine = create_engine('sqlite:///database.db')\n",
    "\n",
    "# Create a session factory\n",
    "Session = sessionmaker(bind=engine)\n",
    "\n",
    "# Create a session object\n",
    "session = Session()\n"
   ]
  },
  {
   "cell_type": "markdown",
   "metadata": {},
   "source": [
    "   In this example, SQLAlchemy's `create_engine` function is used to create an engine that connects to the SQLite database file \"database.db\". The `sessionmaker` class is used to create a session factory, which is bound to the engine. Finally, a session object is created from the session factory.\n",
    "\n",
    "2. Defining a Model:\n",
    "\n",
    "   With SQLAlchemy, you define database tables as Python classes, referred to as models. Each model class represents a table, and its attributes represent the table columns.\n",
    "\n"
   ]
  },
  {
   "cell_type": "code",
   "execution_count": 5,
   "metadata": {},
   "outputs": [],
   "source": [
    "from sqlalchemy import Column, Integer, String\n",
    "from sqlalchemy.ext.declarative import declarative_base\n",
    "\n",
    "# Base class for model definitions\n",
    "Base = declarative_base()\n",
    "\n",
    "# Define a User model\n",
    "class User(Base):\n",
    "    __tablename__ = 'users'\n",
    "\n",
    "    id = Column(Integer, primary_key=True)\n",
    "    name = Column(String)\n",
    "    age = Column(Integer)\n"
   ]
  },
  {
   "cell_type": "markdown",
   "metadata": {},
   "source": [
    "   In this example, the `User` class represents the \"users\" table. It inherits from `Base`, which is the declarative base class provided by SQLAlchemy. The `__tablename__` attribute specifies the name of the table. The `id`, `name`, and `age` attributes represent the columns.\n",
    "\n",
    "3. Creating Tables:\n",
    "\n",
    "   Once you have defined your models, you can create the corresponding database tables using the `create_all()` method.\n",
    "\n"
   ]
  },
  {
   "cell_type": "code",
   "execution_count": 6,
   "metadata": {},
   "outputs": [],
   "source": [
    "\n",
    "# Create the tables in the database\n",
    "Base.metadata.create_all(engine)"
   ]
  },
  {
   "cell_type": "markdown",
   "metadata": {},
   "source": [
    "\n",
    "   This line of code creates the tables in the database based on the model definitions.\n",
    "\n",
    "4. Performing CRUD Operations:\n",
    "\n",
    "   You can use the session object to perform CRUD (Create, Read, Update, Delete) operations on the database.\n"
   ]
  },
  {
   "cell_type": "code",
   "execution_count": 7,
   "metadata": {},
   "outputs": [
    {
     "name": "stdout",
     "output_type": "stream",
     "text": [
      "John Doe 30\n",
      "John Doe 25\n"
     ]
    }
   ],
   "source": [
    "\n",
    "# Creating a new user\n",
    "user = User(name='John Doe', age=25)\n",
    "session.add(user)\n",
    "session.commit()\n",
    "\n",
    "# Querying users\n",
    "users = session.query(User).all()\n",
    "for user in users:\n",
    "    print(user.name, user.age)\n",
    "\n",
    "# Updating a user\n",
    "user = session.query(User).filter_by(name='John Doe').first()\n",
    "user.age = 30\n",
    "session.commit()\n",
    "\n",
    "# Deleting a user\n",
    "user = session.query(User).filter_by(name='John Doe').first()\n",
    "session.delete(user)\n",
    "session.commit()\n"
   ]
  },
  {
   "cell_type": "markdown",
   "metadata": {},
   "source": [
    "   In this example, a new user is created by instantiating the `User` class and adding it to the session. The `query()` method is used to retrieve all users, and their attributes are accessed for printing. The `filter_by()` method is used to filter users based on a condition. Finally, users are updated and deleted using the session object.\n"
   ]
  },
  {
   "cell_type": "markdown",
   "metadata": {},
   "source": [
    "### Practice task\n",
    "\n",
    "Explore and find how relationship mapping, eager loading, and complex query building capabilities using SQLAlchemy"
   ]
  }
 ],
 "metadata": {
  "kernelspec": {
   "display_name": "Python 3",
   "language": "python",
   "name": "python3"
  },
  "language_info": {
   "codemirror_mode": {
    "name": "ipython",
    "version": 3
   },
   "file_extension": ".py",
   "mimetype": "text/x-python",
   "name": "python",
   "nbconvert_exporter": "python",
   "pygments_lexer": "ipython3",
   "version": "3.6.6"
  }
 },
 "nbformat": 4,
 "nbformat_minor": 4
}
