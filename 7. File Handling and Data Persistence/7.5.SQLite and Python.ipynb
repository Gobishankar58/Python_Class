{
 "cells": [
  {
   "cell_type": "markdown",
   "metadata": {},
   "source": [
    "SQLite is a lightweight and self-contained relational database management system that can be easily integrated into Python applications. Python provides the sqlite3 module, which allows you to interact with SQLite databases. Here's an overview of using SQLite and Python for database operations:\n",
    "\n",
    " 1. Connecting to a Database:\n",
    "To start working with an SQLite database in Python, you need to establish a connection to the database file using the sqlite3.connect() method."
   ]
  },
  {
   "cell_type": "code",
   "execution_count": 1,
   "metadata": {},
   "outputs": [],
   "source": [
    "import sqlite3\n",
    "\n",
    "# Connect to an SQLite database\n",
    "connection= sqlite3.connect('database.db')\n"
   ]
  },
  {
   "cell_type": "markdown",
   "metadata": {},
   "source": [
    "In this example, the connect() method establishes a connection to the SQLite database file named \"database.db\". If the database file does not exist, it will be created automatically.\n",
    "\n",
    " 2. Creating a Table:\n",
    "\n",
    "    You can create a table in the database using the execute() method of the connection object with a SQL CREATE TABLE statement."
   ]
  },
  {
   "cell_type": "code",
   "execution_count": 3,
   "metadata": {},
   "outputs": [
    {
     "data": {
      "text/plain": [
       "<sqlite3.Cursor at 0x1eb9ae87340>"
      ]
     },
     "execution_count": 3,
     "metadata": {},
     "output_type": "execute_result"
    }
   ],
   "source": [
    "# Connect to the database\n",
    "connection = sqlite3.connect('database.db')\n",
    "\n",
    "# Create a table\n",
    "connection.execute('''\n",
    "    CREATE TABLE IF NOT EXISTS users (\n",
    "        id INTEGER PRIMARY KEY,\n",
    "        name TEXT NOT NULL,\n",
    "        age INTEGER\n",
    "    )\n",
    "''')"
   ]
  },
  {
   "cell_type": "markdown",
   "metadata": {},
   "source": [
    "In this example, the execute() method is used to execute a SQL statement that creates a table named \"users\" with three columns: \"id\" (integer, primary key), \"name\" (text, not null), and \"age\" (integer).\n",
    "\n",
    " 3. Inserting Data:\n",
    " \n",
    "    You can insert data into the table using the execute() method with a SQL INSERT statement."
   ]
  },
  {
   "cell_type": "code",
   "execution_count": 4,
   "metadata": {},
   "outputs": [],
   "source": [
    "# Connect to the database\n",
    "connection = sqlite3.connect('database.db')\n",
    "\n",
    "# Insert data into the table\n",
    "connection.execute('''\n",
    "    INSERT INTO users (name, age) VALUES (?, ?)\n",
    "''', ('John Doe', 25))\n",
    "\n",
    "# Commit the changes\n",
    "connection.commit()"
   ]
  },
  {
   "cell_type": "markdown",
   "metadata": {},
   "source": [
    "In this example, the execute() method is used to execute an INSERT statement, and the values are provided as a tuple. After inserting the data, the commit() method is called to save the changes to the database.\n",
    "\n",
    " 4. Querying Data:\n",
    "    \n",
    "    You can retrieve data from the table using the execute() method with a SQL SELECT statement."
   ]
  },
  {
   "cell_type": "code",
   "execution_count": 6,
   "metadata": {},
   "outputs": [
    {
     "name": "stdout",
     "output_type": "stream",
     "text": [
      "(1, 'John Doe', 25)\n",
      "(2, 'John Doe', 25)\n"
     ]
    }
   ],
   "source": [
    "# Connect to the database\n",
    "connection = sqlite3.connect('database.db')\n",
    "\n",
    "# Query data from the table\n",
    "result = connection.execute('SELECT * FROM users')\n",
    "\n",
    "# Fetch all rows\n",
    "rows = result.fetchall()\n",
    "\n",
    "# Print the rows\n",
    "for row in rows:\n",
    "    print(row)"
   ]
  },
  {
   "cell_type": "markdown",
   "metadata": {},
   "source": [
    "In this example, the execute() method is used to execute a SELECT statement to retrieve all rows from the \"users\" table. The fetchall() method retrieves all the rows, which can be iterated and printed.\n",
    "\n",
    " 5. Closing the Connection:\n",
    "\n",
    "    It's important to close the database connection when you're done working with the database."
   ]
  },
  {
   "cell_type": "code",
   "execution_count": 7,
   "metadata": {},
   "outputs": [],
   "source": [
    "# Connect to the database\n",
    "connection = sqlite3.connect('database.db')\n",
    "\n",
    "# Perform database operations...\n",
    "\n",
    "# Close the connection\n",
    "connection.close()"
   ]
  },
  {
   "cell_type": "markdown",
   "metadata": {},
   "source": [
    "In this example, the close() method is called on the connection object to close the database connection.\n",
    "\n",
    " 6. Updating Data:\n",
    " \n",
    " To update data in an SQLite table, you can use the execute() method with a SQL UPDATE statement."
   ]
  },
  {
   "cell_type": "code",
   "execution_count": 6,
   "metadata": {},
   "outputs": [],
   "source": [
    "# Connect to the database\n",
    "connection = sqlite3.connect('database.db')\n",
    "\n",
    "# Update data in the table\n",
    "connection.execute('''\n",
    "    UPDATE users SET age = ? WHERE name = ?\n",
    "''', (30, 'John Doe'))\n",
    "\n",
    "# Commit the changes\n",
    "connection.commit()\n"
   ]
  },
  {
   "cell_type": "markdown",
   "metadata": {},
   "source": [
    "In this example, the execute() method is used to execute an UPDATE statement to update the age of a user with the name \"John Doe\" to 30.\n",
    "\n",
    " 7. Deleting Data:\n",
    "\n",
    " To delete data from an SQLite table, you can use the execute() method with a SQL DELETE statement."
   ]
  },
  {
   "cell_type": "code",
   "execution_count": 7,
   "metadata": {},
   "outputs": [],
   "source": [
    "# Connect to the database\n",
    "connection = sqlite3.connect('database.db')\n",
    "\n",
    "# Delete data from the table\n",
    "connection.execute('''\n",
    "    DELETE FROM users WHERE name = ?\n",
    "''', ('John Doe',))\n",
    "\n",
    "# Commit the changes\n",
    "connection.commit()"
   ]
  },
  {
   "cell_type": "markdown",
   "metadata": {},
   "source": [
    "In this example, the execute() method is used to execute a DELETE statement to delete a user with the name \"John Doe\" from the table.\n",
    "\n"
   ]
  },
  {
   "cell_type": "markdown",
   "metadata": {},
   "source": [
    "### TASK\n",
    "\n",
    "Create a table called orders and add two orders for the each user you created and make sure the user id is foreign key of the new table called orders and create a python program fetch all orders details while fetching user information "
   ]
  }
 ],
 "metadata": {
  "kernelspec": {
   "display_name": "Python 3",
   "language": "python",
   "name": "python3"
  },
  "language_info": {
   "codemirror_mode": {
    "name": "ipython",
    "version": 3
   },
   "file_extension": ".py",
   "mimetype": "text/x-python",
   "name": "python",
   "nbconvert_exporter": "python",
   "pygments_lexer": "ipython3",
   "version": "3.13.1"
  }
 },
 "nbformat": 4,
 "nbformat_minor": 4
}
