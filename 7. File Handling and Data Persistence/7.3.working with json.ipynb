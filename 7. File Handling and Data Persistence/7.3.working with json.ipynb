{
 "cells": [
  {
   "cell_type": "markdown",
   "metadata": {},
   "source": [
    "#### Writing JSON Files:\n",
    "\n",
    "You can write data to a JSON file using the json.dump() or json.dumps() method. The json.dump() method writes the JSON data to a file, while json.dumps() returns a JSON string."
   ]
  },
  {
   "cell_type": "code",
   "execution_count": 1,
   "metadata": {},
   "outputs": [],
   "source": [
    "import json\n",
    "\n",
    "# Data to be written\n",
    "data = {\"name\": \"John Doe\",\"age\": 25,\"city\": \"New York\"}\n",
    "\n",
    "# Writing JSON to a file\n",
    "with open('data.json', 'w') as file:\n",
    "    json.dump(data, file)\n"
   ]
  },
  {
   "cell_type": "markdown",
   "metadata": {},
   "source": [
    "In this example, the data dictionary contains the JSON data to be written. The file named \"data.json\" is opened in write mode. The json.dump() method is used to write the JSON data to the file."
   ]
  },
  {
   "cell_type": "markdown",
   "metadata": {},
   "source": [
    "#### Reading JSON Files:\n",
    "\n",
    "You can read data from a JSON file using the json.load() or json.loads() method. The json.load() method reads the JSON data from a file, while json.loads() reads JSON data from a string."
   ]
  },
  {
   "cell_type": "code",
   "execution_count": 3,
   "metadata": {},
   "outputs": [
    {
     "name": "stdout",
     "output_type": "stream",
     "text": [
      "{'name': 'John Doe', 'age': 25, 'city': 'New York'}\n"
     ]
    }
   ],
   "source": [
    "import json\n",
    "\n",
    "# Reading JSON from a file\n",
    "with open('data.json', 'r') as file:\n",
    "    #json.load(file)\n",
    "    d = json.load(file)\n",
    "\n",
    "# Access the JSON data\n",
    "print(d)\n"
   ]
  },
  {
   "cell_type": "markdown",
   "metadata": {},
   "source": [
    "In this example, the JSON file named \"data.json\" is opened in read mode. The json.load() method is used to load the JSON data from the file. The JSON data is then stored in the data variable for further processing."
   ]
  },
  {
   "cell_type": "markdown",
   "metadata": {},
   "source": [
    "#### Parsing JSON Data:\n",
    "\n",
    "When working with JSON data, you can parse it to extract information using Python's built-in data structures."
   ]
  },
  {
   "cell_type": "code",
   "execution_count": 3,
   "metadata": {},
   "outputs": [
    {
     "name": "stdout",
     "output_type": "stream",
     "text": [
      "John Doe 25 New York\n"
     ]
    }
   ],
   "source": [
    "import json\n",
    "\n",
    "# JSON data\n",
    "json_data = '''\n",
    "{\n",
    "    \"name\": \"John Doe\",\n",
    "    \"age\": 25,\n",
    "    \"city\": \"New York\"\n",
    "}\n",
    "'''\n",
    "\n",
    "# Parsing JSON data\n",
    "data = json.loads(json_data)\n",
    "\n",
    "# Access the parsed data\n",
    "print(data[\"name\"], data[\"age\"], data[\"city\"])\n"
   ]
  },
  {
   "cell_type": "markdown",
   "metadata": {},
   "source": [
    "In this example, the json.loads() method is used to parse the JSON data from a string (json_data). The parsed JSON data is stored in the data variable, and you can access specific values using dictionary-like syntax."
   ]
  }
 ],
 "metadata": {
  "kernelspec": {
   "display_name": "Python 3",
   "language": "python",
   "name": "python3"
  },
  "language_info": {
   "codemirror_mode": {
    "name": "ipython",
    "version": 3
   },
   "file_extension": ".py",
   "mimetype": "text/x-python",
   "name": "python",
   "nbconvert_exporter": "python",
   "pygments_lexer": "ipython3",
   "version": "3.13.1"
  }
 },
 "nbformat": 4,
 "nbformat_minor": 4
}
