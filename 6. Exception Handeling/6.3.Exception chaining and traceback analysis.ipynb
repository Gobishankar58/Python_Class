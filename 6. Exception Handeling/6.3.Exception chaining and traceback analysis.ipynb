{
 "cells": [
  {
   "cell_type": "markdown",
   "metadata": {},
   "source": [
    "Exception chaining and traceback analysis are useful techniques in Python for understanding the cause and context of an exception. They help in identifying the chain of events that led to an exception and provide valuable information for debugging and error handling. Here's an overview of exception chaining and traceback analysis in Python:\n",
    "\n",
    " 1. Exception Chaining:\n",
    "\n",
    " Exception chaining allows you to associate a new exception with the original exception that caused it. This helps preserve the original exception's context and traceback information."
   ]
  },
  {
   "cell_type": "code",
   "execution_count": 1,
   "metadata": {},
   "outputs": [
    {
     "ename": "RuntimeError",
     "evalue": "An error occurred",
     "output_type": "error",
     "traceback": [
      "\u001b[1;31m---------------------------------------------------------------------------\u001b[0m",
      "\u001b[1;31mValueError\u001b[0m                                Traceback (most recent call last)",
      "\u001b[1;32m<ipython-input-1-af614bc3af21>\u001b[0m in \u001b[0;36m<module>\u001b[1;34m\u001b[0m\n\u001b[0;32m      2\u001b[0m     \u001b[1;31m# Some code that may raise an exception\u001b[0m\u001b[1;33m\u001b[0m\u001b[1;33m\u001b[0m\u001b[0m\n\u001b[1;32m----> 3\u001b[1;33m     \u001b[1;32mraise\u001b[0m \u001b[0mValueError\u001b[0m\u001b[1;33m(\u001b[0m\u001b[1;34m\"Invalid value\"\u001b[0m\u001b[1;33m)\u001b[0m\u001b[1;33m\u001b[0m\u001b[0m\n\u001b[0m\u001b[0;32m      4\u001b[0m \u001b[1;32mexcept\u001b[0m \u001b[0mValueError\u001b[0m \u001b[1;32mas\u001b[0m \u001b[0me\u001b[0m\u001b[1;33m:\u001b[0m\u001b[1;33m\u001b[0m\u001b[0m\n",
      "\u001b[1;31mValueError\u001b[0m: Invalid value",
      "\nThe above exception was the direct cause of the following exception:\n",
      "\u001b[1;31mRuntimeError\u001b[0m                              Traceback (most recent call last)",
      "\u001b[1;32m<ipython-input-1-af614bc3af21>\u001b[0m in \u001b[0;36m<module>\u001b[1;34m\u001b[0m\n\u001b[0;32m      4\u001b[0m \u001b[1;32mexcept\u001b[0m \u001b[0mValueError\u001b[0m \u001b[1;32mas\u001b[0m \u001b[0me\u001b[0m\u001b[1;33m:\u001b[0m\u001b[1;33m\u001b[0m\u001b[0m\n\u001b[0;32m      5\u001b[0m     \u001b[1;31m# Raise a new exception while preserving the original exception as the cause\u001b[0m\u001b[1;33m\u001b[0m\u001b[1;33m\u001b[0m\u001b[0m\n\u001b[1;32m----> 6\u001b[1;33m     \u001b[1;32mraise\u001b[0m \u001b[0mRuntimeError\u001b[0m\u001b[1;33m(\u001b[0m\u001b[1;34m\"An error occurred\"\u001b[0m\u001b[1;33m)\u001b[0m \u001b[1;32mfrom\u001b[0m \u001b[0me\u001b[0m\u001b[1;33m\u001b[0m\u001b[0m\n\u001b[0m",
      "\u001b[1;31mRuntimeError\u001b[0m: An error occurred"
     ]
    }
   ],
   "source": [
    "try:\n",
    "    # Some code that may raise an exception\n",
    "    raise ValueError(\"Invalid value\")\n",
    "except ValueError as e:\n",
    "    # Raise a new exception while preserving the original exception as the cause\n",
    "    raise RuntimeError(\"An error occurred\") from e\n"
   ]
  },
  {
   "cell_type": "markdown",
   "metadata": {},
   "source": [
    "In this example, a ValueError exception is raised, and then a new RuntimeError exception is raised, specifying the original ValueError exception as the cause using the from keyword. The original exception's traceback is preserved and can be accessed through the __cause__ attribute of the new exception.\n",
    "\n",
    " 2. Traceback Analysis:\n",
    "\n",
    "    When an exception occurs, Python generates a traceback, which is a detailed report of the sequence of function calls leading to the exception. You can analyze the traceback to understand where the exception occurred and trace the flow of execution."
   ]
  },
  {
   "cell_type": "code",
   "execution_count": 2,
   "metadata": {},
   "outputs": [
    {
     "name": "stderr",
     "output_type": "stream",
     "text": [
      "Traceback (most recent call last):\n",
      "  File \"<ipython-input-2-a18b8d75e5cf>\", line 5, in <module>\n",
      "    raise ValueError(\"Invalid value\")\n",
      "ValueError: Invalid value\n"
     ]
    }
   ],
   "source": [
    "import traceback\n",
    "\n",
    "try:\n",
    "    # Some code that may raise an exception\n",
    "    raise ValueError(\"Invalid value\")\n",
    "except ValueError:\n",
    "    # Print the traceback information\n",
    "    traceback.print_exc()\n"
   ]
  },
  {
   "cell_type": "markdown",
   "metadata": {},
   "source": [
    "In this example, the traceback.print_exc() function is used to print the traceback information when a ValueError exception occurs. This prints the traceback to the standard error stream, showing the sequence of function calls and the line numbers where the exception occurred.\n",
    "\n",
    "Additionally, you can access the traceback information programmatically using the traceback.format_exc() function, which returns the traceback as a string."
   ]
  },
  {
   "cell_type": "code",
   "execution_count": 3,
   "metadata": {},
   "outputs": [
    {
     "name": "stdout",
     "output_type": "stream",
     "text": [
      "Traceback (most recent call last):\n",
      "  File \"<ipython-input-3-2e6ea4c9d280>\", line 5, in <module>\n",
      "    raise ValueError(\"Invalid value\")\n",
      "ValueError: Invalid value\n",
      "\n"
     ]
    }
   ],
   "source": [
    "import traceback\n",
    "\n",
    "try:\n",
    "    # Some code that may raise an exception\n",
    "    raise ValueError(\"Invalid value\")\n",
    "except ValueError:\n",
    "    # Get the traceback as a string\n",
    "    traceback_str = traceback.format_exc()\n",
    "    print(traceback_str)\n"
   ]
  },
  {
   "cell_type": "markdown",
   "metadata": {},
   "source": [
    "In this example, the traceback.format_exc() function is used to obtain the traceback as a string, which can be further processed or logged as needed.\n",
    "\n",
    "Traceback analysis and exception chaining are valuable techniques for understanding and diagnosing errors in your code. They provide insight into the execution flow, help identify the cause of an exception, and assist in pinpointing the exact location of the error. By leveraging these techniques, you can improve error handling and debugging in your Python applications."
   ]
  },
  {
   "cell_type": "code",
   "execution_count": 4,
   "metadata": {},
   "outputs": [
    {
     "name": "stderr",
     "output_type": "stream",
     "text": [
      "Traceback (most recent call last):\n",
      "  File \"<ipython-input-4-c56d0e68200b>\", line 5, in divide_numbers\n",
      "    result = a / b\n",
      "ZeroDivisionError: division by zero\n"
     ]
    }
   ],
   "source": [
    "import traceback\n",
    "\n",
    "def divide_numbers(a, b):\n",
    "    try:\n",
    "        result = a / b\n",
    "        return result\n",
    "    except ZeroDivisionError:\n",
    "        traceback.print_exc()\n",
    "\n",
    "divide_numbers(10, 0)\n"
   ]
  },
  {
   "cell_type": "markdown",
   "metadata": {},
   "source": [
    "In this example, the divide_numbers function attempts to perform division. If a ZeroDivisionError occurs, the traceback.print_exc() function is called to print the traceback information. This includes the function calls and line numbers that led to the exception."
   ]
  },
  {
   "cell_type": "code",
   "execution_count": 5,
   "metadata": {},
   "outputs": [
    {
     "name": "stdout",
     "output_type": "stream",
     "text": [
      "Traceback (most recent call last):\n",
      "  File \"<ipython-input-5-4387e5cc41d2>\", line 5, in divide_numbers\n",
      "    result = a / b\n",
      "ZeroDivisionError: division by zero\n",
      "\n"
     ]
    }
   ],
   "source": [
    "import traceback\n",
    "\n",
    "def divide_numbers(a, b):\n",
    "    try:\n",
    "        result = a / b\n",
    "        return result\n",
    "    except ZeroDivisionError:\n",
    "        traceback_str = traceback.format_exc()\n",
    "        print(traceback_str)\n",
    "\n",
    "divide_numbers(10, 0)\n"
   ]
  },
  {
   "cell_type": "markdown",
   "metadata": {},
   "source": [
    "The output will be similar to the previous example, but it will be stored in the traceback_str variable instead of being directly printed."
   ]
  }
 ],
 "metadata": {
  "kernelspec": {
   "display_name": "Python 3",
   "language": "python",
   "name": "python3"
  },
  "language_info": {
   "codemirror_mode": {
    "name": "ipython",
    "version": 3
   },
   "file_extension": ".py",
   "mimetype": "text/x-python",
   "name": "python",
   "nbconvert_exporter": "python",
   "pygments_lexer": "ipython3",
   "version": "3.6.6"
  }
 },
 "nbformat": 4,
 "nbformat_minor": 4
}
