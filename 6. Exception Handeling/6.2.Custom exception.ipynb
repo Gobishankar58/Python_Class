{
 "cells": [
  {
   "cell_type": "markdown",
   "metadata": {},
   "source": [
    "you can raise and catch custom exceptions to handle specific error conditions in your code. Custom exceptions allow you to define and raise your own types of exceptions that suit the specific needs of your application. Here's how you can raise and catch custom exceptions in Python\n",
    "\n",
    " 1. Defining a Custom Exception:\n",
    "\n",
    "To define a custom exception, you can create a new class that inherits from the built-in Exception class or any of its subclasses."
   ]
  },
  {
   "cell_type": "code",
   "execution_count": 1,
   "metadata": {},
   "outputs": [],
   "source": [
    "class CustomException(Exception):\n",
    "    pass\n"
   ]
  },
  {
   "cell_type": "markdown",
   "metadata": {},
   "source": [
    "In this example, the CustomException class is defined, which inherits from the base Exception class. You can add custom attributes and methods to your custom exception class as needed.\n",
    "\n",
    " 2. Raising a Custom Exception:\n",
    "\n",
    " To raise a custom exception, you can use the raise keyword followed by an instance of your custom exception class."
   ]
  },
  {
   "cell_type": "code",
   "execution_count": 2,
   "metadata": {},
   "outputs": [],
   "source": [
    "def some_function():\n",
    "    raise CustomException(\"This is a custom exception\")\n"
   ]
  },
  {
   "cell_type": "markdown",
   "metadata": {},
   "source": [
    "In this example, the CustomException is raised within the some_function() function.\n",
    "\n",
    " 3. Catching a Custom Exception:\n",
    " \n",
    " To catch and handle a custom exception, you can use a try-except block."
   ]
  },
  {
   "cell_type": "code",
   "execution_count": 3,
   "metadata": {},
   "outputs": [
    {
     "ename": "CustomException",
     "evalue": "This is a custom exception",
     "output_type": "error",
     "traceback": [
      "\u001b[1;31m---------------------------------------------------------------------------\u001b[0m",
      "\u001b[1;31mCustomException\u001b[0m                           Traceback (most recent call last)",
      "Cell \u001b[1;32mIn[3], line 1\u001b[0m\n\u001b[1;32m----> 1\u001b[0m \u001b[43msome_function\u001b[49m\u001b[43m(\u001b[49m\u001b[43m)\u001b[49m\n",
      "Cell \u001b[1;32mIn[2], line 2\u001b[0m, in \u001b[0;36msome_function\u001b[1;34m()\u001b[0m\n\u001b[0;32m      1\u001b[0m \u001b[38;5;28;01mdef\u001b[39;00m \u001b[38;5;21msome_function\u001b[39m():\n\u001b[1;32m----> 2\u001b[0m     \u001b[38;5;28;01mraise\u001b[39;00m CustomException(\u001b[38;5;124m\"\u001b[39m\u001b[38;5;124mThis is a custom exception\u001b[39m\u001b[38;5;124m\"\u001b[39m)\n",
      "\u001b[1;31mCustomException\u001b[0m: This is a custom exception"
     ]
    }
   ],
   "source": [
    "some_function()"
   ]
  },
  {
   "cell_type": "code",
   "execution_count": 4,
   "metadata": {},
   "outputs": [
    {
     "name": "stdout",
     "output_type": "stream",
     "text": [
      "Caught CustomException: This is a custom exception\n"
     ]
    }
   ],
   "source": [
    "try:\n",
    "    some_function()\n",
    "except CustomException as e:\n",
    "    print(\"Caught CustomException:\", e)\n"
   ]
  },
  {
   "cell_type": "markdown",
   "metadata": {},
   "source": [
    "In this example, the try block is used to execute the code that might raise the CustomException. If the exception occurs, the except block is executed, and the exception object is assigned to the variable e. You can perform custom error handling within the except block.\n",
    "\n",
    " 4. Raising Custom Exceptions with Additional Information:\n",
    " \n",
    "    You can also pass additional information or arguments to your custom exceptions and access them when catching the exception."
   ]
  },
  {
   "cell_type": "code",
   "execution_count": 4,
   "metadata": {},
   "outputs": [
    {
     "name": "stdout",
     "output_type": "stream",
     "text": [
      "Caught CustomException: This is a custom exception\n",
      "Error Code: 42\n"
     ]
    }
   ],
   "source": [
    "class CustomException(Exception):\n",
    "    def __init__(self, message, code):\n",
    "        super().__init__(message)\n",
    "        self.code = code\n",
    "\n",
    "def some_function():\n",
    "    raise CustomException(\"This is a custom exception\", 42)\n",
    "\n",
    "try:\n",
    "    some_function()\n",
    "except CustomException as e:\n",
    "    print(\"Caught CustomException:\", e)\n",
    "    print(\"Error Code:\", e.code)\n"
   ]
  },
  {
   "cell_type": "markdown",
   "metadata": {},
   "source": [
    "In this example, the CustomException class is modified to accept a message and code argument. The arguments are passed when raising the exception, and they can be accessed as attributes of the exception object when catching it.\n",
    "\n",
    "Custom exceptions allow you to handle specific error scenarios in a more precise and meaningful way within your code. By defining and raising custom exceptions, you can provide more descriptive error messages and add additional information for error handling and debugging purposes.\n",
    "\n",
    "Remember that when defining custom exceptions, it's generally a good practice to inherit from the Exception class or one of its subclasses to ensure compatibility with the existing exception handling mechanisms in Python."
   ]
  }
 ],
 "metadata": {
  "kernelspec": {
   "display_name": "Python 3",
   "language": "python",
   "name": "python3"
  },
  "language_info": {
   "codemirror_mode": {
    "name": "ipython",
    "version": 3
   },
   "file_extension": ".py",
   "mimetype": "text/x-python",
   "name": "python",
   "nbconvert_exporter": "python",
   "pygments_lexer": "ipython3",
   "version": "3.13.1"
  }
 },
 "nbformat": 4,
 "nbformat_minor": 4
}
