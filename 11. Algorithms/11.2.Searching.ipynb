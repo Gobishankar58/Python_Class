{
 "cells": [
  {
   "cell_type": "markdown",
   "metadata": {},
   "source": [
    "## Linear search \n",
    "\n",
    "Linear search is a method of finding elements within a list. It is also called a sequential search.  It is the simplest searching algorithm because it searches the desired element in a sequential manner."
   ]
  },
  {
   "cell_type": "code",
   "execution_count": 4,
   "metadata": {},
   "outputs": [
    {
     "name": "stdout",
     "output_type": "stream",
     "text": [
      "object found in 999999\n"
     ]
    }
   ],
   "source": [
    "my_list = [x for x in range(100000000)]\n",
    "for i in range(len(my_list)):\n",
    "    if my_list[i] == 999999:\n",
    "        print('object found in',i)\n",
    "        break\n",
    "else:\n",
    "    print('not found')"
   ]
  },
  {
   "cell_type": "code",
   "execution_count": 2,
   "metadata": {},
   "outputs": [
    {
     "name": "stdout",
     "output_type": "stream",
     "text": [
      "object found\n"
     ]
    }
   ],
   "source": [
    "for i in my_list:\n",
    "    if i == 7:\n",
    "        print('object found')\n",
    "        break\n",
    "else:\n",
    "    print('not found')"
   ]
  },
  {
   "cell_type": "markdown",
   "metadata": {},
   "source": [
    "## Binary Search\n",
    "Binary Search is a searching algorithm for finding an element's position in a sorted array. In this approach, the element is always searched in the middle of a portion of an array.\n",
    "\n",
    "Binary Search Algorithm can be implemented in two ways which are discussed below.\n",
    "\n",
    "1. Iterative Method\n",
    "2. Recursive Method"
   ]
  },
  {
   "cell_type": "markdown",
   "metadata": {},
   "source": [
    "### Iterative method"
   ]
  },
  {
   "cell_type": "code",
   "execution_count": 7,
   "metadata": {},
   "outputs": [
    {
     "name": "stdout",
     "output_type": "stream",
     "text": [
      "high\n",
      "Element is present at index 1\n"
     ]
    }
   ],
   "source": [
    "def binarySearch(array, x, low, high):\n",
    "    while low <= high:\n",
    "        mid = low + (high - low)//2\n",
    "        if array[mid] == x:\n",
    "            return mid\n",
    "        elif array[mid] < x:\n",
    "            low = mid + 1\n",
    "            print('low')\n",
    "        else:\n",
    "            high = mid - 1\n",
    "            print('high')\n",
    "    return -1\n",
    "array = [3, 4, 5, 6, 7, 8, 9]\n",
    "x = 4\n",
    "result = binarySearch(array, x, 0, len(array)-1)\n",
    "if result != -1:\n",
    "    print(\"Element is present at index \" + str(result))\n",
    "else:\n",
    "    print(\"Not found\")"
   ]
  },
  {
   "cell_type": "markdown",
   "metadata": {},
   "source": [
    "### Recursive Method"
   ]
  },
  {
   "cell_type": "code",
   "execution_count": 4,
   "metadata": {},
   "outputs": [
    {
     "name": "stdout",
     "output_type": "stream",
     "text": [
      "Element is present at index 1\n"
     ]
    }
   ],
   "source": [
    "# Binary Search in python\n",
    "\n",
    "\n",
    "def binarySearch(array, x, low, high):\n",
    "    if high >= low:\n",
    "        mid = low + (high - low)//2\n",
    "        if array[mid] == x:\n",
    "            return mid\n",
    "        elif array[mid] > x:\n",
    "            return binarySearch(array, x, low, mid-1)\n",
    "        else:\n",
    "            return binarySearch(array, x, mid + 1, high)\n",
    "    else:\n",
    "        return -1\n",
    "array = [3, 4, 5, 6, 7, 8, 9]\n",
    "x = 4\n",
    "result = binarySearch(array, x, 0, len(array)-1)\n",
    "if result != -1:\n",
    "    print(\"Element is present at index \" + str(result))\n",
    "else:\n",
    "    print(\"Not found\")"
   ]
  },
  {
   "cell_type": "markdown",
   "metadata": {},
   "source": [
    "## Ternary search\n",
    "\n",
    "Like the binary search, it also separates the lists into sub-lists. This procedure divides the list into three parts using two intermediate mid values. As the lists are divided into more subdivisions, so it reduces the time to search a key value."
   ]
  },
  {
   "cell_type": "markdown",
   "metadata": {},
   "source": [
    "### Iterative Approach"
   ]
  },
  {
   "cell_type": "code",
   "execution_count": 5,
   "metadata": {
    "scrolled": true
   },
   "outputs": [
    {
     "name": "stdout",
     "output_type": "stream",
     "text": [
      "Index of 9 is 9\n",
      "Index of 50 is -1\n"
     ]
    }
   ],
   "source": [
    "def ternarySearch(l, r, key, ar):\n",
    "    while r >= l:\n",
    "        mid1 = l + (r-l) // 3\n",
    "        mid2 = r - (r-l) // 3\n",
    "        if key == ar[mid1]:\n",
    "            return mid1\n",
    "        if key == ar[mid2]:\n",
    "            return mid2\n",
    "        if key < ar[mid1]:\n",
    "            r = mid1 - 1\n",
    "        elif key > ar[mid2]:\n",
    "            l = mid2 + 1\n",
    "        else:\n",
    "            l = mid1 + 1\n",
    "            r = mid2 - 1\n",
    "    return -1\n",
    "ar = [x for x in range(10)]\n",
    "key = 9\n",
    "p = ternarySearch(0, len(ar)-1, key, ar)\n",
    "print(\"Index of\", key, \"is\", p)\n",
    "key = 50\n",
    "p = ternarySearch(0, len(ar)-1, key, ar)\n",
    "print(\"Index of\", key, \"is\", p)"
   ]
  },
  {
   "cell_type": "markdown",
   "metadata": {},
   "source": [
    "### Recursive Approch"
   ]
  },
  {
   "cell_type": "code",
   "execution_count": 6,
   "metadata": {},
   "outputs": [
    {
     "name": "stdout",
     "output_type": "stream",
     "text": [
      "Index of 5 is 4\n",
      "Index of 50 is -1\n"
     ]
    }
   ],
   "source": [
    "def ternarySearch(l, r, key, ar):\n",
    "    if (r >= l):\n",
    "        mid1 = l + (r - l) //3\n",
    "        mid2 = r - (r - l) //3\n",
    "        if (ar[mid1] == key): \n",
    "            return mid1\n",
    "        if (ar[mid2] == key): \n",
    "            return mid2\n",
    "        if (key < ar[mid1]): \n",
    "            return ternarySearch(l, mid1 - 1, key, ar)\n",
    "        elif (key > ar[mid2]): \n",
    "            return ternarySearch(mid2 + 1, r, key, ar)\n",
    "        else: \n",
    "            return ternarySearch(mid1 + 1,mid2 - 1, key, ar)\n",
    "    return -1\n",
    "ar = [ 1, 2, 3, 4, 5, 6, 7, 8, 9, 10 ]\n",
    "l, r, key = 0, len(ar)-1, 5 \n",
    "p = ternarySearch(l, r, key, ar)\n",
    "print(\"Index of\", key, \"is\", p)\n",
    "key = 50\n",
    "p = ternarySearch(l, r, key, ar)  \n",
    "print(\"Index of\", key, \"is\", p)"
   ]
  },
  {
   "cell_type": "markdown",
   "metadata": {},
   "source": [
    "## Jump search\n",
    "\n",
    "With Jump Search, the sorted array of data is split into subsets of elements called blocks. The size of the block is chosen as the square root of the array's length."
   ]
  },
  {
   "cell_type": "code",
   "execution_count": 7,
   "metadata": {},
   "outputs": [
    {
     "name": "stdout",
     "output_type": "stream",
     "text": [
      "Processing Block - [1, 2, 3]\n",
      "Processing Block - [4, 5, 6]\n",
      "Processing Block - [7, 8, 9]\n"
     ]
    },
    {
     "data": {
      "text/plain": [
       "6"
      ]
     },
     "execution_count": 7,
     "metadata": {},
     "output_type": "execute_result"
    }
   ],
   "source": [
    "import math\n",
    "def jump_search(A, item):\n",
    "    n = len(A)                          \n",
    "    m = int(math.sqrt(n))               \n",
    "    i = 0                               \n",
    "    while i != len(A)-1 and A[i] < item:\n",
    "        print(\"Processing Block - {}\".format(A[i: i+m]))\n",
    "        if A[i+m-1] == item:            \n",
    "            return i+m-1\n",
    "        elif A[i+m-1] > item:           \n",
    "            B = A[i: i+m-1]\n",
    "            return linear_search(B, item, i)\n",
    "        i += m\n",
    "    B = A[i:i+m]                        \n",
    "    print(\"Processing Block - {}\".format(B))\n",
    "    return linear_search(B, item, i)\n",
    "def linear_search(B, item, loc):\n",
    "    i = 0\n",
    "    while i != len(B):\n",
    "        if B[i] == item:\n",
    "            return loc+i\n",
    "        i += 1\n",
    "    return -1\n",
    "jump_search([1,2,3,4,5,6,7,8,9,10],7)"
   ]
  }
 ],
 "metadata": {
  "kernelspec": {
   "display_name": "Python 3",
   "language": "python",
   "name": "python3"
  },
  "language_info": {
   "codemirror_mode": {
    "name": "ipython",
    "version": 3
   },
   "file_extension": ".py",
   "mimetype": "text/x-python",
   "name": "python",
   "nbconvert_exporter": "python",
   "pygments_lexer": "ipython3",
   "version": "3.10.9"
  }
 },
 "nbformat": 4,
 "nbformat_minor": 4
}
