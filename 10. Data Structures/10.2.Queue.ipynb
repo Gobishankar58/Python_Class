{
 "cells": [
  {
   "cell_type": "markdown",
   "metadata": {},
   "source": [
    "__Queue__ is an abstract data type that follows the \"First-In-First-Out\" (FIFO) principle. It behaves like a real-world queue or line, where the first person who joins the queue is the first one to be served. In a queue, new elements are added to the back, and elements are removed from the front.\n",
    "\n",
    "Python provides a built-in module called `queue` that offers a queue implementation. Let's see how to use it with some examples:\n",
    "\n",
    "1. Basic Queue Operations:\n",
    "   The `queue` module provides the `Queue` class, which supports basic queue operations like `enqueue()` (add an element to the back), `dequeue()` (remove an element from the front), and `empty()` (check if the queue is empty)."
   ]
  },
  {
   "cell_type": "code",
   "execution_count": null,
   "metadata": {},
   "outputs": [],
   "source": [
    "#Queue()\n",
    "#put()\n",
    "#get()\n",
    "#empty()"
   ]
  },
  {
   "cell_type": "code",
   "execution_count": 7,
   "metadata": {},
   "outputs": [
    {
     "name": "stdout",
     "output_type": "stream",
     "text": [
      "10\n",
      "20\n",
      "False\n",
      "30\n",
      "True\n"
     ]
    }
   ],
   "source": [
    "import queue\n",
    "\n",
    "# Create a queue\n",
    "q = queue.Queue()\n",
    "\n",
    "# Enqueue elements\n",
    "q.put(10)\n",
    "q.put(20)\n",
    "q.put(30)\n",
    "\n",
    "# Dequeue elements\n",
    "print(q.get())  # Output: 10\n",
    "print(q.get())  # Output: 20\n",
    "\n",
    "# Check if the queue is empty\n",
    "print(q.empty())  # Output: False\n",
    "\n",
    "# Dequeue remaining element\n",
    "print(q.get())  # Output: 30\n",
    "\n",
    "# Check if the queue is empty again\n",
    "print(q.empty())  # Output: True\n"
   ]
  },
  {
   "cell_type": "code",
   "execution_count": 2,
   "metadata": {},
   "outputs": [
    {
     "name": "stdout",
     "output_type": "stream",
     "text": [
      "<queue.Queue object at 0x000001D8FBBB22D0>\n"
     ]
    }
   ],
   "source": [
    "print(q)"
   ]
  },
  {
   "cell_type": "markdown",
   "metadata": {},
   "source": [
    "\n",
    "2. Queue Size:\n",
    "   The `Queue` class also provides the `qsize()` method to retrieve the current size of the queue.\n",
    "\n"
   ]
  },
  {
   "cell_type": "code",
   "execution_count": 10,
   "metadata": {},
   "outputs": [
    {
     "name": "stdout",
     "output_type": "stream",
     "text": [
      "3\n"
     ]
    }
   ],
   "source": [
    "import queue\n",
    "\n",
    "# Create a queue\n",
    "q = queue.Queue()\n",
    "\n",
    "# Enqueue elements\n",
    "q.put(10)\n",
    "q.put(20)\n",
    "q.put(30)\n",
    "\n",
    "# Get the current size of the queue\n",
    "print(q.qsize())  # Output: 3\n"
   ]
  },
  {
   "cell_type": "markdown",
   "metadata": {},
   "source": [
    "3. Priority Queue:\n",
    "   Python's `queue` module also supports a priority queue, where elements are assigned a priority and dequeued based on their priority. The `PriorityQueue` class is used for this purpose.\n"
   ]
  },
  {
   "cell_type": "code",
   "execution_count": 9,
   "metadata": {},
   "outputs": [
    {
     "name": "stdout",
     "output_type": "stream",
     "text": [
      "(1, 'Banana')\n",
      "(2, 'Apple')\n"
     ]
    }
   ],
   "source": [
    "import queue\n",
    "\n",
    "# Create a priority queue\n",
    "pq = queue.PriorityQueue()\n",
    "\n",
    "# Enqueue elements with priorities\n",
    "pq.put((2, \"Apple\"))\n",
    "pq.put((1, \"Banana\"))\n",
    "pq.put((3, \"Orange\"))\n",
    "\n",
    "# Dequeue elements based on priority\n",
    "print(pq.get())  # Output: (1, 'Banana')\n",
    "print(pq.get())  # Output: (2, 'Apple')"
   ]
  },
  {
   "cell_type": "markdown",
   "metadata": {},
   "source": [
    "In this example, each element is a tuple where the first element represents the priority, and the second element represents the value. Elements are dequeued based on their priority, with the lowest value having the highest priority.\n",
    "\n",
    "These examples demonstrate the usage of queues in Python using the `queue` module. Queues are widely used in various algorithms and scenarios where FIFO ordering is required, such as process scheduling, breadth-first search, and more."
   ]
  }
 ],
 "metadata": {
  "kernelspec": {
   "display_name": "Python 3",
   "language": "python",
   "name": "python3"
  },
  "language_info": {
   "codemirror_mode": {
    "name": "ipython",
    "version": 3
   },
   "file_extension": ".py",
   "mimetype": "text/x-python",
   "name": "python",
   "nbconvert_exporter": "python",
   "pygments_lexer": "ipython3",
   "version": "3.12.4"
  }
 },
 "nbformat": 4,
 "nbformat_minor": 4
}
